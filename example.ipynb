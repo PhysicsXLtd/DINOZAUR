{
 "cells": [
  {
   "cell_type": "code",
   "execution_count": null,
   "id": "31390b5a",
   "metadata": {},
   "outputs": [],
   "source": [
    "import logging\n",
    "import sys\n",
    "from pathlib import Path\n",
    "\n",
    "import h5py\n",
    "import torch\n",
    "import yaml\n",
    "\n",
    "from dinozaur.training.trainer import Trainer\n",
    "\n",
    "logger = logging.getLogger(__name__)\n",
    "logger.addHandler(logging.StreamHandler(stream=sys.stdout))\n",
    "logger.setLevel(logging.INFO)"
   ]
  },
  {
   "cell_type": "code",
   "execution_count": null,
   "id": "c132c0fc",
   "metadata": {},
   "outputs": [],
   "source": [
    "# load config\n",
    "with open(\"config/darcy/dinozaur.yml\") as f:\n",
    "    config = yaml.safe_load(f)"
   ]
  },
  {
   "cell_type": "code",
   "execution_count": null,
   "id": "febc6bcd",
   "metadata": {},
   "outputs": [],
   "source": [
    "# set num_epoch=1 for demonstration purposes\n",
    "config[\"training_params\"][\"num_epochs\"] = 1"
   ]
  },
  {
   "cell_type": "code",
   "execution_count": null,
   "id": "fedba17d",
   "metadata": {},
   "outputs": [],
   "source": [
    "# train for 1 epoch\n",
    "trainer = Trainer(**config)\n",
    "trainer.train()"
   ]
  },
  {
   "cell_type": "code",
   "execution_count": null,
   "id": "12cd7382",
   "metadata": {},
   "outputs": [],
   "source": [
    "# save full model\n",
    "Path(\"logs/example\").mkdir(parents=True, exist_ok=True)\n",
    "torch.save(trainer, \"logs/example/model.pt\")"
   ]
  },
  {
   "cell_type": "code",
   "execution_count": null,
   "id": "d631c62f",
   "metadata": {},
   "outputs": [],
   "source": [
    "# load full model\n",
    "trainer = torch.load(\"logs/example/model.pt\", weights_only=False)"
   ]
  },
  {
   "cell_type": "code",
   "execution_count": null,
   "id": "4d57afd9",
   "metadata": {},
   "outputs": [],
   "source": [
    "# load test sample\n",
    "sample = {}\n",
    "\n",
    "with h5py.File(\"data/darcy/test/data_1024.h5\", \"r\") as f:\n",
    "    for k in f.keys():\n",
    "        sample[k] = torch.tensor(f[k][:][None])"
   ]
  },
  {
   "cell_type": "code",
   "execution_count": null,
   "id": "64521bf1",
   "metadata": {},
   "outputs": [],
   "source": [
    "# run inference\n",
    "prediction = trainer.predict(sample.copy()).detach().cpu().numpy()"
   ]
  },
  {
   "cell_type": "code",
   "execution_count": null,
   "id": "206da80f",
   "metadata": {},
   "outputs": [],
   "source": []
  }
 ],
 "metadata": {
  "kernelspec": {
   "display_name": "dinozaur",
   "language": "python",
   "name": "python3"
  },
  "language_info": {
   "codemirror_mode": {
    "name": "ipython",
    "version": 3
   },
   "file_extension": ".py",
   "mimetype": "text/x-python",
   "name": "python",
   "nbconvert_exporter": "python",
   "pygments_lexer": "ipython3",
   "version": "3.11.13"
  }
 },
 "nbformat": 4,
 "nbformat_minor": 5
}
